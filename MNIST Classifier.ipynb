{
 "cells": [
  {
   "cell_type": "code",
   "execution_count": 1,
   "metadata": {
    "collapsed": true
   },
   "outputs": [],
   "source": [
    "import pandas as pd\n",
    "import numpy as np\n",
    "import matplotlib.pyplot as plt\n",
    "from IPython import display\n",
    "import tensorflow as tf\n",
    "import os\n",
    "%matplotlib inline"
   ]
  },
  {
   "cell_type": "code",
   "execution_count": 2,
   "metadata": {
    "collapsed": true
   },
   "outputs": [],
   "source": [
    "# Load data\n",
    "with np.load(os.path.join('data','mnist-60k.npz'), allow_pickle=False) as npz_file:\n",
    "    # Load items into a dictionary\n",
    "    mnist = dict(npz_file.items())\n",
    "    \n",
    "X = mnist['data'].astype(np.float32).reshape(-1, 28, 28, 1)\n",
    "y = mnist['labels']"
   ]
  },
  {
   "cell_type": "code",
   "execution_count": 3,
   "metadata": {},
   "outputs": [
    {
     "name": "stdout",
     "output_type": "stream",
     "text": [
      "X_tr (54000, 28, 28, 1)\n",
      "X_te (3600, 28, 28, 1)\n",
      "X_cv (2400, 28, 28, 1)\n"
     ]
    }
   ],
   "source": [
    "# split the data\n",
    "from sklearn.model_selection import train_test_split\n",
    "\n",
    "# Create train/test sets\n",
    "X_tr, X_te, y_tr, y_te = train_test_split(X,y,test_size=0.1, random_state=0)\n",
    "\n",
    "# Split again into validation/test sets\n",
    "X_cv, X_te, y_cv, y_te = train_test_split(X_te, y_te,test_size=0.6, random_state=0)\n",
    "\n",
    "print(\"X_tr\", X_tr.shape)\n",
    "print(\"X_te\", X_te.shape)\n",
    "print(\"X_cv\", X_cv.shape)"
   ]
  },
  {
   "cell_type": "code",
   "execution_count": 4,
   "metadata": {
    "collapsed": true
   },
   "outputs": [],
   "source": [
    "# Batch generator\n",
    "def get_batches(X, y, batch_size):\n",
    "    # Shuffle X,y\n",
    "    shuffled_idx = np.arange(len(y))\n",
    "    np.random.shuffle(shuffled_idx)\n",
    "\n",
    "    # Enumerate indexes by steps of batch_size\n",
    "    for i in range(0, len(y), batch_size):\n",
    "        # Batch indexes\n",
    "        batch_idx = shuffled_idx[i:i+batch_size]\n",
    "        yield X[batch_idx], y[batch_idx]"
   ]
  },
  {
   "cell_type": "code",
   "execution_count": 5,
   "metadata": {
    "collapsed": true
   },
   "outputs": [],
   "source": [
    "# Create new graph\n",
    "graph = tf.Graph()\n",
    "\n",
    "# set init to indicate a new model\n",
    "init = True\n",
    "\n",
    "with graph.as_default():\n",
    "    # Placeholders\n",
    "    X = tf.placeholder(dtype=tf.float32, shape=[None, 28, 28, 1])\n",
    "    y = tf.placeholder(dtype=tf.int32, shape=[None])\n",
    "    training = tf.placeholder(dtype=tf.bool)\n",
    "\n",
    "    # create global step for decaying learning rate\n",
    "    global_step = tf.Variable(0, trainable=False)\n",
    "\n",
    "    # Decay the learning rate - \n",
    "    learning_rate = tf.train.exponential_decay(0.001,               # start at 0.001\n",
    "                                               global_step, \n",
    "                                               2000,                # 2000 steps\n",
    "                                               0.95,                # 0.95 increment\n",
    "                                               staircase=True)\n",
    "\n",
    "    # Convolutional layer 1 \n",
    "    conv1 = tf.layers.conv2d(\n",
    "        X,                           # Input data\n",
    "        filters=32,                  # 32 filters\n",
    "        kernel_size=(5, 5),          # Kernel size: 5x5\n",
    "        strides=(1, 1),              # Stride: 1\n",
    "        padding='SAME',              # \"same\" padding\n",
    "        activation=tf.nn.relu,       # ReLU\n",
    "        kernel_initializer=tf.truncated_normal_initializer(stddev=5e-2, seed=0), # Small standard deviation\n",
    "        name='conv1'                  # Add name\n",
    "    )\n",
    "\n",
    "    # Max pooling layer 1\n",
    "    pool1 = tf.layers.max_pooling2d(\n",
    "        conv1,                       # Input\n",
    "        pool_size=(2, 2),            # Pool size: 2x\n",
    "        strides=(2, 2),              # Stride: 2\n",
    "        padding='SAME',              # \"same\" padding\n",
    "        name='pool1'\n",
    "    )\n",
    "\n",
    "    # Convolutional layer 2\n",
    "    conv2 = tf.layers.conv2d(\n",
    "        pool1,                       # Input\n",
    "        filters=64,                  # 64 filters\n",
    "        kernel_size=(5, 5),          # Kernel size: 5x5\n",
    "        strides=(1, 1),              # Stride: 1\n",
    "        padding='SAME',              # \"same\" padding\n",
    "        activation=tf.nn.relu,       # ReLU\n",
    "        kernel_initializer=tf.truncated_normal_initializer(stddev=5e-2, seed=0),    # Small standard deviation\n",
    "        name='conv2'                 # Add name\n",
    "    )\n",
    "\n",
    "    # Max pooling layer 2 (2x2, stride: 2) - TUNED\n",
    "    pool2 = tf.layers.max_pooling2d(\n",
    "        conv2,                       # input\n",
    "        pool_size=(2, 2),            # pool size 2x2\n",
    "        strides=(2, 2),              # stride 2\n",
    "        padding='SAME'\n",
    "    )\n",
    "\n",
    "    # Flatten output\n",
    "    flat_output = tf.contrib.layers.flatten(pool2)\n",
    "\n",
    "    # Fully connected layer\n",
    "    fc1 = tf.layers.dense(\n",
    "        flat_output,                 # input\n",
    "        1024,                         # 256 hidden units\n",
    "        activation=tf.nn.relu,       # ReLU\n",
    "        kernel_initializer=tf.variance_scaling_initializer(scale=2, seed=0),\n",
    "        bias_initializer=tf.zeros_initializer(),\n",
    "        name='fc1'\n",
    "    )\n",
    "\n",
    "    fc1 = tf.layers.dropout(fc1, rate=0.70, seed=1, training=training)\n",
    "\n",
    "    # logits\n",
    "    logits = tf.layers.dense(\n",
    "        fc1,                         # input\n",
    "        10,                           # One output unit per category\n",
    "        activation=None,             # No activation function\n",
    "        kernel_initializer=tf.variance_scaling_initializer(scale=1, seed=0),\n",
    "        bias_initializer=tf.zeros_initializer()\n",
    "    )\n",
    "\n",
    "    #loss = tf.reduce_mean(tf.nn.sparse_softmax_cross_entropy_with_logits(labels=y, logits=logits))\n",
    "    loss = tf.losses.sparse_softmax_cross_entropy(labels=y, logits=logits)\n",
    "    \n",
    "    optimizer = tf.train.AdamOptimizer(learning_rate=learning_rate)\n",
    "    train_op = optimizer.minimize(loss=loss,global_step=global_step)\n",
    "\n",
    "    # Compute predictions and accuracy\n",
    "    predictions = tf.argmax(logits, axis=1, output_type=tf.int32)\n",
    "    #probabilities = tf.nn.softmax(logits, name=\"softmax_tensor\")\n",
    "    \n",
    "    is_correct = tf.equal(y, predictions)\n",
    "    accuracy = tf.reduce_mean(tf.cast(is_correct, dtype=tf.float32))\n",
    "    \n",
    "    # Get weights/biases of the conv1 layer\n",
    "    #with tf.variable_scope('conv1', reuse=True):\n",
    "    #    W1 = tf.get_variable('kernel')\n",
    "    #    b1 = tf.get_variable('bias')\n",
    "\n",
    "    # Get weights/biases of the conv2 layer\n",
    "    #with tf.variable_scope('conv2', reuse=True):\n",
    "    #    W2 = tf.get_variable('kernel')\n",
    "    #    b2 = tf.get_variable('bias')\n",
    "\n",
    "    # Get weights/biases of the fully connected layer\n",
    "    #with tf.variable_scope('fc1', reuse=True):\n",
    "    #    W3 = tf.get_variable('kernel')\n",
    "    #    b3 = tf.get_variable('bias')"
   ]
  },
  {
   "cell_type": "code",
   "execution_count": 6,
   "metadata": {
    "collapsed": true
   },
   "outputs": [],
   "source": [
    "init = False"
   ]
  },
  {
   "cell_type": "code",
   "execution_count": 14,
   "metadata": {},
   "outputs": [
    {
     "name": "stdout",
     "output_type": "stream",
     "text": [
      "INFO:tensorflow:Restoring parameters from ./model/mnist_model.ckpt\n",
      "Epoch 00 - step 82712 - cv acc: 0.994 - train acc: 1.000 (mean) - cv cost: 0.137 - lr: 0.00012\n"
     ]
    },
    {
     "ename": "KeyboardInterrupt",
     "evalue": "",
     "output_type": "error",
     "traceback": [
      "\u001b[1;31m---------------------------------------------------------------------------\u001b[0m",
      "\u001b[1;31mKeyboardInterrupt\u001b[0m                         Traceback (most recent call last)",
      "\u001b[1;32m<ipython-input-14-dd373218551c>\u001b[0m in \u001b[0;36m<module>\u001b[1;34m()\u001b[0m\n\u001b[0;32m     47\u001b[0m         \u001b[0mbatch_cost\u001b[0m \u001b[1;33m=\u001b[0m \u001b[1;33m[\u001b[0m\u001b[1;33m]\u001b[0m\u001b[1;33m\u001b[0m\u001b[0m\n\u001b[0;32m     48\u001b[0m \u001b[1;33m\u001b[0m\u001b[0m\n\u001b[1;32m---> 49\u001b[1;33m         \u001b[1;32mfor\u001b[0m \u001b[0mX_batch\u001b[0m\u001b[1;33m,\u001b[0m \u001b[0my_batch\u001b[0m \u001b[1;32min\u001b[0m \u001b[0mget_batches\u001b[0m\u001b[1;33m(\u001b[0m\u001b[0mX_tr\u001b[0m\u001b[1;33m,\u001b[0m \u001b[0my_tr\u001b[0m\u001b[1;33m,\u001b[0m \u001b[1;36m32\u001b[0m\u001b[1;33m)\u001b[0m\u001b[1;33m:\u001b[0m\u001b[1;33m\u001b[0m\u001b[0m\n\u001b[0m\u001b[0;32m     50\u001b[0m             \u001b[1;31m# Run training and evaluate accuracy\u001b[0m\u001b[1;33m\u001b[0m\u001b[1;33m\u001b[0m\u001b[0m\n\u001b[0;32m     51\u001b[0m             _, acc_value, cost_value = sess.run([train_op, accuracy, loss], feed_dict={\n",
      "\u001b[1;32m<ipython-input-4-21ebd9baa237>\u001b[0m in \u001b[0;36mget_batches\u001b[1;34m(X, y, batch_size)\u001b[0m\n\u001b[0;32m      9\u001b[0m         \u001b[1;31m# Batch indexes\u001b[0m\u001b[1;33m\u001b[0m\u001b[1;33m\u001b[0m\u001b[0m\n\u001b[0;32m     10\u001b[0m         \u001b[0mbatch_idx\u001b[0m \u001b[1;33m=\u001b[0m \u001b[0mshuffled_idx\u001b[0m\u001b[1;33m[\u001b[0m\u001b[0mi\u001b[0m\u001b[1;33m:\u001b[0m\u001b[0mi\u001b[0m\u001b[1;33m+\u001b[0m\u001b[0mbatch_size\u001b[0m\u001b[1;33m]\u001b[0m\u001b[1;33m\u001b[0m\u001b[0m\n\u001b[1;32m---> 11\u001b[1;33m         \u001b[1;32myield\u001b[0m \u001b[0mX\u001b[0m\u001b[1;33m[\u001b[0m\u001b[0mbatch_idx\u001b[0m\u001b[1;33m]\u001b[0m\u001b[1;33m,\u001b[0m \u001b[0my\u001b[0m\u001b[1;33m[\u001b[0m\u001b[0mbatch_idx\u001b[0m\u001b[1;33m]\u001b[0m\u001b[1;33m\u001b[0m\u001b[0m\n\u001b[0m",
      "\u001b[1;31mKeyboardInterrupt\u001b[0m: "
     ]
    },
    {
     "data": {
      "image/png": "[encoded data removed]",
      "text/plain": [
       "<matplotlib.figure.Figure at 0x1d049df12b0>"
      ]
     },
     "metadata": {},
     "output_type": "display_data"
    }
   ],
   "source": [
    "# Placeholders for metrics\n",
    "valid_acc_values = []\n",
    "valid_cost_values = []\n",
    "train_acc_values = []\n",
    "train_cost_values = []\n",
    "dropout1_values = []\n",
    "\n",
    "# how many epochs to run\n",
    "epochs = 20\n",
    "\n",
    "# how often to print metrics\n",
    "print_every = 5\n",
    "\n",
    "# how often to save model\n",
    "checkpoint_every = 5\n",
    "\n",
    "# whether to print or plot metrics\n",
    "print_metrics = True\n",
    "\n",
    "config = tf.ConfigProto(\n",
    "    # uncomment to run on CPU\n",
    "    #device_count = {'GPU': 0}\n",
    ")\n",
    "config.gpu_options.allocator_type = 'BFC'\n",
    "config.gpu_options.per_process_gpu_memory_fraction = 0.6\n",
    "\n",
    "with tf.Session(graph=graph, config=config) as sess:\n",
    "    # create a plot to be updated as model is trained\n",
    "    f, ax = plt.subplots(1,2,figsize=(20,5))\n",
    "    \n",
    "    # create the saver\n",
    "    saver = tf.train.Saver()\n",
    "    \n",
    "    # If the model is new initialize variables, else restore the session\n",
    "    if init:\n",
    "        sess.run(tf.global_variables_initializer())\n",
    "    else:\n",
    "        saver.restore(sess, './model/mnist_model.ckpt')\n",
    "        \n",
    "    # Set seed\n",
    "    np.random.seed(0)\n",
    "\n",
    "    # Train several epochs\n",
    "    for epoch in range(epochs):\n",
    "        # Accuracy values (train) after each batch\n",
    "        batch_acc = []\n",
    "        batch_cost = []\n",
    "\n",
    "        for X_batch, y_batch in get_batches(X_tr, y_tr, 32):\n",
    "            # Run training and evaluate accuracy\n",
    "            _, acc_value, cost_value = sess.run([train_op, accuracy, loss], feed_dict={\n",
    "                X: X_batch,\n",
    "                y: y_batch,\n",
    "                training: True\n",
    "            })\n",
    "\n",
    "            # Save accuracy (current batch)\n",
    "            batch_acc.append(acc_value)\n",
    "            batch_cost.append(cost_value)\n",
    "\n",
    "        # Evaluate validation accuracy\n",
    "        valid_acc, valid_cost, lr, step = sess.run([accuracy, loss, learning_rate, global_step], feed_dict={\n",
    "            X: X_cv,\n",
    "            y: y_cv,\n",
    "            training: False\n",
    "        })\n",
    "        valid_acc_values.append(valid_acc)\n",
    "        valid_cost_values.append(valid_cost)\n",
    "        train_acc_values.append(np.mean(batch_acc))\n",
    "        train_cost_values.append(np.mean(batch_cost))\n",
    "        \n",
    "        if print_metrics:\n",
    "            # Print progress every fifth epoch to keep output to reasonable amount\n",
    "            if(epoch % print_every == 0):\n",
    "                print('Epoch {:02d} - step {} - cv acc: {:.3f} - train acc: {:.3f} (mean) - cv cost: {:.3f} - lr: {:.5f}'.format(\n",
    "                    epoch, step, valid_acc, np.mean(batch_acc), valid_cost, lr\n",
    "                ))\n",
    "        else:\n",
    "            # draw a plot\n",
    "            ax[0].cla()\n",
    "            ax[0].plot(valid_acc_values, color=\"red\", label=\"Validation\")\n",
    "            ax[0].plot(train_acc_values, color=\"blue\", label=\"Training\")\n",
    "            ax[0].set_title('Validation accuracy: {:.3f} (mean last 3)'.format(np.mean(valid_acc_values[-3:])))\n",
    "\n",
    "            ax[0].set_xlabel('epoch')\n",
    "            ax[0].set_ylabel('accuracy')\n",
    "            ax[1].cla()\n",
    "            ax[1].plot(valid_cost_values, color=\"red\", label=\"Validation\")\n",
    "            ax[1].plot(train_cost_values, color=\"blue\", label=\"Training\")\n",
    "            ax[1].set_title('Validation cost: {:.3f} (mean last 3)'.format(np.mean(valid_cost_values[-3:])))\n",
    "            ax[1].set_xlabel('epoch')\n",
    "            ax[1].set_ylabel('cost')\n",
    "            ax[1].legend()\n",
    "            ax[0].legend()\n",
    "\n",
    "            display.display(plt.gcf())\n",
    "            display.clear_output(wait=True)    \n",
    "        \n",
    "        # save checkpoint every nth epoch except the first\n",
    "        if((epoch != 0) & (epoch % checkpoint_every == 0)):\n",
    "            print(\"Saving checkpoint\")\n",
    "            # save the model\n",
    "            save_path = saver.save(sess, \"./model/mnist_model.ckpt\")\n",
    "    \n",
    "            # Now that model is saved set init to false so we don't need to constantly retrain it\n",
    "            init = False\n",
    "        \n",
    "    # print results of last epoch\n",
    "    print('Epoch {} - step {} - cv acc: {:.3f} - train acc: {:.3f} (mean) - cv cost: {:.3f}'.format(\n",
    "                epochs, step, valid_acc, np.mean(batch_acc), valid_cost\n",
    "            ))\n",
    "            \n",
    "    # Check on the test data\n",
    "    test_acc = sess.run(accuracy, feed_dict={\n",
    "        X: X_te,\n",
    "        y: y_te,\n",
    "        training: False\n",
    "    })\n",
    "    \n",
    "    # save the model\n",
    "    print(\"Saving model\")\n",
    "    save_path = saver.save(sess, \"./model/mnist_model.ckpt\")\n",
    "    init = False\n",
    "    \n",
    "\n",
    "# update the plot\n",
    "f, ax = plt.subplots(1,2,figsize=(20,5))\n",
    "ax[0].plot(valid_acc_values, color=\"red\", label=\"Validation\")\n",
    "ax[0].plot(train_acc_values, color=\"blue\", label=\"Training\")\n",
    "ax[0].set_title('Validation accuracy: {:.3f} (mean last 3)'.format(np.mean(valid_acc_values[-3:])))\n",
    "ax[0].legend()\n",
    "ax[0].set_xlabel('epoch')\n",
    "ax[0].set_ylabel('accuracy')\n",
    "ax[1].plot(valid_cost_values, color=\"red\", label=\"Validation\")\n",
    "ax[1].plot(train_cost_values, color=\"blue\", label=\"Training\")\n",
    "ax[1].set_title('Validation cost: {:.3f} (mean last 3)'.format(np.mean(valid_cost_values[-3:])))\n",
    "ax[1].set_xlabel('epoch')\n",
    "ax[1].set_ylabel('cost')\n",
    "plt.legend()\n",
    "plt.show()\n",
    "\n",
    "print(\"Accuracy (test set):\",test_acc)"
   ]
  },
  {
   "cell_type": "code",
   "execution_count": 13,
   "metadata": {},
   "outputs": [
    {
     "data": {
      "image/png": "[encoded data removed]",
      "text/plain": [
       "<matplotlib.figure.Figure at 0x1d049e00588>"
      ]
     },
     "metadata": {},
     "output_type": "display_data"
    },
    {
     "name": "stdout",
     "output_type": "stream",
     "text": [
      "Accuracy (test set): 0.99277776\n"
     ]
    }
   ],
   "source": [
    "# update the plot\n",
    "f, ax = plt.subplots(1,2,figsize=(20,5))\n",
    "ax[0].plot(valid_acc_values, color=\"red\", label=\"Validation\")\n",
    "ax[0].plot(train_acc_values, color=\"blue\", label=\"Training\")\n",
    "ax[0].set_title('Validation accuracy: {:.3f} (mean last 3)'.format(np.mean(valid_acc_values[-3:])))\n",
    "ax[0].legend()\n",
    "ax[0].set_xlabel('epoch')\n",
    "ax[0].set_ylabel('accuracy')\n",
    "ax[1].plot(valid_cost_values, color=\"red\", label=\"Validation\")\n",
    "ax[1].plot(train_cost_values, color=\"blue\", label=\"Training\")\n",
    "ax[1].set_title('Validation cost: {:.3f} (mean last 3)'.format(np.mean(valid_cost_values[-3:])))\n",
    "ax[1].set_xlabel('epoch')\n",
    "ax[1].set_ylabel('cost')\n",
    "plt.legend()\n",
    "plt.show()\n",
    "\n",
    "print(\"Accuracy (test set):\",test_acc)"
   ]
  },
  {
   "cell_type": "code",
   "execution_count": 12,
   "metadata": {},
   "outputs": [
    {
     "name": "stdout",
     "output_type": "stream",
     "text": [
      "INFO:tensorflow:Restoring parameters from ./model/mnist_model.ckpt\n"
     ]
    }
   ],
   "source": [
    "with tf.Session(graph=graph, config=config) as sess:\n",
    "    saver.restore(sess, './model/mnist_model.ckpt')\n",
    "    \n",
    "    # Check on the test data\n",
    "    test_acc = sess.run(accuracy, feed_dict={\n",
    "        X: X_te,\n",
    "        y: y_te,\n",
    "        training: False\n",
    "    })"
   ]
  },
  {
   "cell_type": "code",
   "execution_count": null,
   "metadata": {
    "collapsed": true
   },
   "outputs": [],
   "source": []
  }
 ],
 "metadata": {
  "kernelspec": {
   "display_name": "Python 3",
   "language": "python",
   "name": "python3"
  },
  "language_info": {
   "codemirror_mode": {
    "name": "ipython",
    "version": 3
   },
   "file_extension": ".py",
   "mimetype": "text/x-python",
   "name": "python",
   "nbconvert_exporter": "python",
   "pygments_lexer": "ipython3",
   "version": "3.6.2"
  }
 },
 "nbformat": 4,
 "nbformat_minor": 2
}
